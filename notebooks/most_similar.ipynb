{
 "cells": [
  {
   "attachments": {},
   "cell_type": "markdown",
   "metadata": {},
   "source": [
    "# Libraries"
   ]
  },
  {
   "cell_type": "code",
   "execution_count": 2,
   "metadata": {},
   "outputs": [],
   "source": [
    "import os\n",
    "from pathlib import Path\n",
    "import numpy as np\n",
    "import SimpleITK as sitk\n",
    "import matplotlib.pyplot as plt\n",
    "from tqdm import tqdm\n",
    "import pickle\n",
    "import pandas as pd\n",
    "#For registration\n",
    "import voxelmorph as vxm\n",
    "import tensorflow as tf\n",
    "assert tf.__version__.startswith('2.'), 'This tutorial assumes Tensorflow 2.0+'\n",
    "#Own libraries\n",
    "from metadata import ImageDataset, patient\n",
    "import utils"
   ]
  },
  {
   "cell_type": "code",
   "execution_count": 3,
   "metadata": {},
   "outputs": [
    {
     "name": "stdout",
     "output_type": "stream",
     "text": [
      "The current directory is: /home/ricardino/Documents/MAIA/tercer_semestre/MISA/final_project/MISA_FINAL_PROJECT/notebooks\n"
     ]
    }
   ],
   "source": [
    "notebooks_path = Path.cwd()\n",
    "repo_path = notebooks_path.parent\n",
    "print(f'The current directory is: {notebooks_path}')"
   ]
  },
  {
   "attachments": {},
   "cell_type": "markdown",
   "metadata": {},
   "source": [
    "# MAIN"
   ]
  },
  {
   "attachments": {},
   "cell_type": "markdown",
   "metadata": {},
   "source": [
    "We want to register each training image to the validation images, individually.<br>\n",
    "\n",
    "Saving the registered images may help us save some time in the future, as we will use them for other applications.\n",
    "The question would be to decide which parameter file to use for the registration.\n",
    "Thankfully, there exists Voxelmorph which is a deep learning pretrained model that can be used for registration."
   ]
  },
  {
   "attachments": {},
   "cell_type": "markdown",
   "metadata": {},
   "source": [
    "## Voxelmorph"
   ]
  },
  {
   "cell_type": "code",
   "execution_count": 53,
   "metadata": {},
   "outputs": [],
   "source": [
    "def voxmorph_register(fixed_path:str, moving_path:str, label_path:str):\n",
    "    \"\"\"register moving image to fixed image using voxmorph, also register label image\n",
    "\n",
    "    Args:\n",
    "        fixed_path (str): fixed image path\n",
    "        moving_path (str): moving image path\n",
    "        label_path (str): moving image label path\n",
    "\n",
    "    Returns:\n",
    "        4 objs: moved image, moved label, warp, fixed image\n",
    "    \"\"\"\n",
    "\n",
    "    #load model\n",
    "    model_path = str(repo_path / 'data/voxelmorph/vxm_dense_brain_T1_3D_mse.h5')\n",
    "\n",
    "    # tensorflow device handling\n",
    "    device, nb_devices = vxm.tf.utils.setup_device()\n",
    "\n",
    "    # load moving and fixed images\n",
    "    add_feat_axis = not False\n",
    "    moving = vxm.py.utils.load_volfile(moving_path, add_batch_axis=True, add_feat_axis=add_feat_axis)\n",
    "    \n",
    "    label = vxm.py.utils.load_volfile(label_path, add_batch_axis=True, add_feat_axis=add_feat_axis)\n",
    "    #fill all background values to GM, value 2\n",
    "    label[label == 0] = 2\n",
    "    fixed, fixed_affine = vxm.py.utils.load_volfile( #fixed afine is basically the dimenionallity of the image\n",
    "        fixed_path, add_batch_axis=True, add_feat_axis=add_feat_axis, ret_affine=True)\n",
    "    \n",
    "    # shape\n",
    "    inshape = moving.shape[1:-1]\n",
    "    nb_feats = moving.shape[-1]\n",
    "\n",
    "    with tf.device(device):\n",
    "        # load model and predict\n",
    "        config = dict(inshape=inshape, input_model=None)\n",
    "        warp = vxm.networks.VxmDense.load(model_path, **config).register(moving, fixed)\n",
    "        moved = vxm.networks.Transform(inshape, nb_feats=nb_feats).predict([moving, warp])\n",
    "        moved_label = vxm.networks.Transform(inshape, nb_feats=nb_feats).predict([label, warp])\n",
    "        \n",
    "    #mask label using moved image\n",
    "    moved_label[moved==0] = 0\n",
    "    \n",
    "    return moved, moved_label, warp, fixed_affine\n",
    "\n",
    "\n",
    "def compute_maattesMI(moved_path:str, fixed_path:str):\n",
    "    \"\"\"Computes the Mattes mutual information between two images.\n",
    "\n",
    "    Args:\n",
    "        moved_path (str): path of moving image\n",
    "        fixed_path (str): path of fixed image\n",
    "\n",
    "    Returns:\n",
    "        float: metric value\n",
    "    \"\"\"\n",
    "    \n",
    "    img1 = sitk.ReadImage(moved_path)\n",
    "    img2 = sitk.ReadImage(fixed_path)\n",
    "    #change dtype of moved image to float 64\n",
    "    img1 = sitk.Cast(img1, sitk.sitkFloat64)\n",
    "\n",
    "    registration_method = sitk.ImageRegistrationMethod()\n",
    "    registration_method.SetMetricAsMattesMutualInformation()\n",
    "    metric = registration_method.MetricEvaluate(img1,img2)\n",
    "    \n",
    "    return metric"
   ]
  },
  {
   "cell_type": "code",
   "execution_count": 74,
   "metadata": {},
   "outputs": [
    {
     "name": "stderr",
     "output_type": "stream",
     "text": [
      "  0%|          | 0/5 [00:00<?, ?it/s]/home/ricardino/anaconda3/envs/misa_final/lib/python3.9/site-packages/voxelmorph/tf/networks.py:124: UserWarning: int_downsize is deprecated, use the int_resolution parameter.\n",
      "  warnings.warn('int_downsize is deprecated, use the int_resolution parameter.')\n",
      "/home/ricardino/anaconda3/envs/misa_final/lib/python3.9/site-packages/voxelmorph/tf/networks.py:129: UserWarning: unet_half_res is deprecated, use the svf_resolution parameter.\n",
      "  warnings.warn('unet_half_res is deprecated, use the svf_resolution parameter.')\n"
     ]
    },
    {
     "name": "stdout",
     "output_type": "stream",
     "text": [
      "1/1 [==============================] - 4s 4s/step\n",
      "1/1 [==============================] - 1s 788ms/step\n",
      "1/1 [==============================] - 1s 783ms/step\n"
     ]
    },
    {
     "name": "stderr",
     "output_type": "stream",
     "text": [
      "/home/ricardino/anaconda3/envs/misa_final/lib/python3.9/site-packages/voxelmorph/tf/networks.py:124: UserWarning: int_downsize is deprecated, use the int_resolution parameter.\n",
      "  warnings.warn('int_downsize is deprecated, use the int_resolution parameter.')\n",
      "/home/ricardino/anaconda3/envs/misa_final/lib/python3.9/site-packages/voxelmorph/tf/networks.py:129: UserWarning: unet_half_res is deprecated, use the svf_resolution parameter.\n",
      "  warnings.warn('unet_half_res is deprecated, use the svf_resolution parameter.')\n"
     ]
    },
    {
     "name": "stdout",
     "output_type": "stream",
     "text": [
      "1/1 [==============================] - 4s 4s/step\n",
      "1/1 [==============================] - 1s 818ms/step\n",
      "1/1 [==============================] - 1s 1s/step\n"
     ]
    },
    {
     "name": "stderr",
     "output_type": "stream",
     "text": [
      "/home/ricardino/anaconda3/envs/misa_final/lib/python3.9/site-packages/voxelmorph/tf/networks.py:124: UserWarning: int_downsize is deprecated, use the int_resolution parameter.\n",
      "  warnings.warn('int_downsize is deprecated, use the int_resolution parameter.')\n",
      "/home/ricardino/anaconda3/envs/misa_final/lib/python3.9/site-packages/voxelmorph/tf/networks.py:129: UserWarning: unet_half_res is deprecated, use the svf_resolution parameter.\n",
      "  warnings.warn('unet_half_res is deprecated, use the svf_resolution parameter.')\n"
     ]
    },
    {
     "name": "stdout",
     "output_type": "stream",
     "text": [
      "1/1 [==============================] - 4s 4s/step\n",
      "1/1 [==============================] - 1s 823ms/step\n",
      "1/1 [==============================] - 1s 843ms/step\n"
     ]
    },
    {
     "name": "stderr",
     "output_type": "stream",
     "text": [
      "/home/ricardino/anaconda3/envs/misa_final/lib/python3.9/site-packages/voxelmorph/tf/networks.py:124: UserWarning: int_downsize is deprecated, use the int_resolution parameter.\n",
      "  warnings.warn('int_downsize is deprecated, use the int_resolution parameter.')\n",
      "/home/ricardino/anaconda3/envs/misa_final/lib/python3.9/site-packages/voxelmorph/tf/networks.py:129: UserWarning: unet_half_res is deprecated, use the svf_resolution parameter.\n",
      "  warnings.warn('unet_half_res is deprecated, use the svf_resolution parameter.')\n"
     ]
    },
    {
     "name": "stdout",
     "output_type": "stream",
     "text": [
      "1/1 [==============================] - 4s 4s/step\n",
      "1/1 [==============================] - 1s 810ms/step\n",
      "1/1 [==============================] - 1s 827ms/step\n"
     ]
    },
    {
     "name": "stderr",
     "output_type": "stream",
     "text": [
      "/home/ricardino/anaconda3/envs/misa_final/lib/python3.9/site-packages/voxelmorph/tf/networks.py:124: UserWarning: int_downsize is deprecated, use the int_resolution parameter.\n",
      "  warnings.warn('int_downsize is deprecated, use the int_resolution parameter.')\n",
      "/home/ricardino/anaconda3/envs/misa_final/lib/python3.9/site-packages/voxelmorph/tf/networks.py:129: UserWarning: unet_half_res is deprecated, use the svf_resolution parameter.\n",
      "  warnings.warn('unet_half_res is deprecated, use the svf_resolution parameter.')\n"
     ]
    },
    {
     "name": "stdout",
     "output_type": "stream",
     "text": [
      "1/1 [==============================] - 4s 4s/step\n",
      "1/1 [==============================] - 1s 768ms/step\n",
      "1/1 [==============================] - 1s 754ms/step\n"
     ]
    },
    {
     "name": "stderr",
     "output_type": "stream",
     "text": [
      "/home/ricardino/anaconda3/envs/misa_final/lib/python3.9/site-packages/voxelmorph/tf/networks.py:124: UserWarning: int_downsize is deprecated, use the int_resolution parameter.\n",
      "  warnings.warn('int_downsize is deprecated, use the int_resolution parameter.')\n",
      "/home/ricardino/anaconda3/envs/misa_final/lib/python3.9/site-packages/voxelmorph/tf/networks.py:129: UserWarning: unet_half_res is deprecated, use the svf_resolution parameter.\n",
      "  warnings.warn('unet_half_res is deprecated, use the svf_resolution parameter.')\n"
     ]
    },
    {
     "name": "stdout",
     "output_type": "stream",
     "text": [
      "1/1 [==============================] - 4s 4s/step\n",
      "1/1 [==============================] - 1s 762ms/step\n",
      "1/1 [==============================] - 1s 755ms/step\n"
     ]
    },
    {
     "name": "stderr",
     "output_type": "stream",
     "text": [
      "/home/ricardino/anaconda3/envs/misa_final/lib/python3.9/site-packages/voxelmorph/tf/networks.py:124: UserWarning: int_downsize is deprecated, use the int_resolution parameter.\n",
      "  warnings.warn('int_downsize is deprecated, use the int_resolution parameter.')\n",
      "/home/ricardino/anaconda3/envs/misa_final/lib/python3.9/site-packages/voxelmorph/tf/networks.py:129: UserWarning: unet_half_res is deprecated, use the svf_resolution parameter.\n",
      "  warnings.warn('unet_half_res is deprecated, use the svf_resolution parameter.')\n"
     ]
    },
    {
     "name": "stdout",
     "output_type": "stream",
     "text": [
      "1/1 [==============================] - 4s 4s/step\n",
      "1/1 [==============================] - 1s 758ms/step\n",
      "1/1 [==============================] - 1s 758ms/step\n"
     ]
    },
    {
     "name": "stderr",
     "output_type": "stream",
     "text": [
      "/home/ricardino/anaconda3/envs/misa_final/lib/python3.9/site-packages/voxelmorph/tf/networks.py:124: UserWarning: int_downsize is deprecated, use the int_resolution parameter.\n",
      "  warnings.warn('int_downsize is deprecated, use the int_resolution parameter.')\n",
      "/home/ricardino/anaconda3/envs/misa_final/lib/python3.9/site-packages/voxelmorph/tf/networks.py:129: UserWarning: unet_half_res is deprecated, use the svf_resolution parameter.\n",
      "  warnings.warn('unet_half_res is deprecated, use the svf_resolution parameter.')\n"
     ]
    },
    {
     "name": "stdout",
     "output_type": "stream",
     "text": [
      "1/1 [==============================] - 5s 5s/step\n",
      "1/1 [==============================] - 1s 744ms/step\n",
      "1/1 [==============================] - 1s 783ms/step\n"
     ]
    },
    {
     "name": "stderr",
     "output_type": "stream",
     "text": [
      "/home/ricardino/anaconda3/envs/misa_final/lib/python3.9/site-packages/voxelmorph/tf/networks.py:124: UserWarning: int_downsize is deprecated, use the int_resolution parameter.\n",
      "  warnings.warn('int_downsize is deprecated, use the int_resolution parameter.')\n",
      "/home/ricardino/anaconda3/envs/misa_final/lib/python3.9/site-packages/voxelmorph/tf/networks.py:129: UserWarning: unet_half_res is deprecated, use the svf_resolution parameter.\n",
      "  warnings.warn('unet_half_res is deprecated, use the svf_resolution parameter.')\n"
     ]
    },
    {
     "name": "stdout",
     "output_type": "stream",
     "text": [
      "1/1 [==============================] - 5s 5s/step\n",
      "1/1 [==============================] - 1s 830ms/step\n",
      "1/1 [==============================] - 1s 827ms/step\n"
     ]
    },
    {
     "name": "stderr",
     "output_type": "stream",
     "text": [
      "/home/ricardino/anaconda3/envs/misa_final/lib/python3.9/site-packages/voxelmorph/tf/networks.py:124: UserWarning: int_downsize is deprecated, use the int_resolution parameter.\n",
      "  warnings.warn('int_downsize is deprecated, use the int_resolution parameter.')\n",
      "/home/ricardino/anaconda3/envs/misa_final/lib/python3.9/site-packages/voxelmorph/tf/networks.py:129: UserWarning: unet_half_res is deprecated, use the svf_resolution parameter.\n",
      "  warnings.warn('unet_half_res is deprecated, use the svf_resolution parameter.')\n"
     ]
    },
    {
     "name": "stdout",
     "output_type": "stream",
     "text": [
      "1/1 [==============================] - 4s 4s/step\n",
      "1/1 [==============================] - 1s 881ms/step\n",
      "1/1 [==============================] - 1s 821ms/step\n"
     ]
    },
    {
     "name": "stderr",
     "output_type": "stream",
     "text": [
      "100%|██████████| 10/10 [01:35<00:00,  9.56s/it]\n",
      " 20%|██        | 1/5 [01:35<06:22, 95.63s/it]/home/ricardino/anaconda3/envs/misa_final/lib/python3.9/site-packages/voxelmorph/tf/networks.py:124: UserWarning: int_downsize is deprecated, use the int_resolution parameter.\n",
      "  warnings.warn('int_downsize is deprecated, use the int_resolution parameter.')\n",
      "/home/ricardino/anaconda3/envs/misa_final/lib/python3.9/site-packages/voxelmorph/tf/networks.py:129: UserWarning: unet_half_res is deprecated, use the svf_resolution parameter.\n",
      "  warnings.warn('unet_half_res is deprecated, use the svf_resolution parameter.')\n"
     ]
    },
    {
     "name": "stdout",
     "output_type": "stream",
     "text": [
      "1/1 [==============================] - 5s 5s/step\n",
      "1/1 [==============================] - 1s 828ms/step\n",
      "1/1 [==============================] - 1s 824ms/step\n"
     ]
    },
    {
     "name": "stderr",
     "output_type": "stream",
     "text": [
      "/home/ricardino/anaconda3/envs/misa_final/lib/python3.9/site-packages/voxelmorph/tf/networks.py:124: UserWarning: int_downsize is deprecated, use the int_resolution parameter.\n",
      "  warnings.warn('int_downsize is deprecated, use the int_resolution parameter.')\n",
      "/home/ricardino/anaconda3/envs/misa_final/lib/python3.9/site-packages/voxelmorph/tf/networks.py:129: UserWarning: unet_half_res is deprecated, use the svf_resolution parameter.\n",
      "  warnings.warn('unet_half_res is deprecated, use the svf_resolution parameter.')\n"
     ]
    },
    {
     "name": "stdout",
     "output_type": "stream",
     "text": [
      "1/1 [==============================] - 4s 4s/step\n",
      "1/1 [==============================] - 1s 771ms/step\n",
      "1/1 [==============================] - 1s 770ms/step\n"
     ]
    },
    {
     "name": "stderr",
     "output_type": "stream",
     "text": [
      "/home/ricardino/anaconda3/envs/misa_final/lib/python3.9/site-packages/voxelmorph/tf/networks.py:124: UserWarning: int_downsize is deprecated, use the int_resolution parameter.\n",
      "  warnings.warn('int_downsize is deprecated, use the int_resolution parameter.')\n",
      "/home/ricardino/anaconda3/envs/misa_final/lib/python3.9/site-packages/voxelmorph/tf/networks.py:129: UserWarning: unet_half_res is deprecated, use the svf_resolution parameter.\n",
      "  warnings.warn('unet_half_res is deprecated, use the svf_resolution parameter.')\n"
     ]
    },
    {
     "name": "stdout",
     "output_type": "stream",
     "text": [
      "1/1 [==============================] - 4s 4s/step\n",
      "1/1 [==============================] - 1s 778ms/step\n",
      "1/1 [==============================] - 1s 756ms/step\n"
     ]
    },
    {
     "name": "stderr",
     "output_type": "stream",
     "text": [
      "/home/ricardino/anaconda3/envs/misa_final/lib/python3.9/site-packages/voxelmorph/tf/networks.py:124: UserWarning: int_downsize is deprecated, use the int_resolution parameter.\n",
      "  warnings.warn('int_downsize is deprecated, use the int_resolution parameter.')\n",
      "/home/ricardino/anaconda3/envs/misa_final/lib/python3.9/site-packages/voxelmorph/tf/networks.py:129: UserWarning: unet_half_res is deprecated, use the svf_resolution parameter.\n",
      "  warnings.warn('unet_half_res is deprecated, use the svf_resolution parameter.')\n"
     ]
    },
    {
     "name": "stdout",
     "output_type": "stream",
     "text": [
      "1/1 [==============================] - 4s 4s/step\n",
      "1/1 [==============================] - 1s 767ms/step\n",
      "1/1 [==============================] - 1s 757ms/step\n"
     ]
    },
    {
     "name": "stderr",
     "output_type": "stream",
     "text": [
      "/home/ricardino/anaconda3/envs/misa_final/lib/python3.9/site-packages/voxelmorph/tf/networks.py:124: UserWarning: int_downsize is deprecated, use the int_resolution parameter.\n",
      "  warnings.warn('int_downsize is deprecated, use the int_resolution parameter.')\n",
      "/home/ricardino/anaconda3/envs/misa_final/lib/python3.9/site-packages/voxelmorph/tf/networks.py:129: UserWarning: unet_half_res is deprecated, use the svf_resolution parameter.\n",
      "  warnings.warn('unet_half_res is deprecated, use the svf_resolution parameter.')\n"
     ]
    },
    {
     "name": "stdout",
     "output_type": "stream",
     "text": [
      "1/1 [==============================] - 4s 4s/step\n",
      "1/1 [==============================] - 1s 767ms/step\n",
      "1/1 [==============================] - 1s 751ms/step\n"
     ]
    },
    {
     "name": "stderr",
     "output_type": "stream",
     "text": [
      "/home/ricardino/anaconda3/envs/misa_final/lib/python3.9/site-packages/voxelmorph/tf/networks.py:124: UserWarning: int_downsize is deprecated, use the int_resolution parameter.\n",
      "  warnings.warn('int_downsize is deprecated, use the int_resolution parameter.')\n",
      "/home/ricardino/anaconda3/envs/misa_final/lib/python3.9/site-packages/voxelmorph/tf/networks.py:129: UserWarning: unet_half_res is deprecated, use the svf_resolution parameter.\n",
      "  warnings.warn('unet_half_res is deprecated, use the svf_resolution parameter.')\n"
     ]
    },
    {
     "name": "stdout",
     "output_type": "stream",
     "text": [
      "1/1 [==============================] - 4s 4s/step\n",
      "1/1 [==============================] - 1s 727ms/step\n",
      "1/1 [==============================] - 1s 722ms/step\n"
     ]
    },
    {
     "name": "stderr",
     "output_type": "stream",
     "text": [
      "/home/ricardino/anaconda3/envs/misa_final/lib/python3.9/site-packages/voxelmorph/tf/networks.py:124: UserWarning: int_downsize is deprecated, use the int_resolution parameter.\n",
      "  warnings.warn('int_downsize is deprecated, use the int_resolution parameter.')\n",
      "/home/ricardino/anaconda3/envs/misa_final/lib/python3.9/site-packages/voxelmorph/tf/networks.py:129: UserWarning: unet_half_res is deprecated, use the svf_resolution parameter.\n",
      "  warnings.warn('unet_half_res is deprecated, use the svf_resolution parameter.')\n"
     ]
    },
    {
     "name": "stdout",
     "output_type": "stream",
     "text": [
      "1/1 [==============================] - 4s 4s/step\n",
      "1/1 [==============================] - 1s 859ms/step\n",
      "1/1 [==============================] - 1s 784ms/step\n"
     ]
    },
    {
     "name": "stderr",
     "output_type": "stream",
     "text": [
      "/home/ricardino/anaconda3/envs/misa_final/lib/python3.9/site-packages/voxelmorph/tf/networks.py:124: UserWarning: int_downsize is deprecated, use the int_resolution parameter.\n",
      "  warnings.warn('int_downsize is deprecated, use the int_resolution parameter.')\n",
      "/home/ricardino/anaconda3/envs/misa_final/lib/python3.9/site-packages/voxelmorph/tf/networks.py:129: UserWarning: unet_half_res is deprecated, use the svf_resolution parameter.\n",
      "  warnings.warn('unet_half_res is deprecated, use the svf_resolution parameter.')\n"
     ]
    },
    {
     "name": "stdout",
     "output_type": "stream",
     "text": [
      "1/1 [==============================] - 4s 4s/step\n",
      "1/1 [==============================] - 1s 812ms/step\n",
      "1/1 [==============================] - 1s 817ms/step\n"
     ]
    },
    {
     "name": "stderr",
     "output_type": "stream",
     "text": [
      "/home/ricardino/anaconda3/envs/misa_final/lib/python3.9/site-packages/voxelmorph/tf/networks.py:124: UserWarning: int_downsize is deprecated, use the int_resolution parameter.\n",
      "  warnings.warn('int_downsize is deprecated, use the int_resolution parameter.')\n",
      "/home/ricardino/anaconda3/envs/misa_final/lib/python3.9/site-packages/voxelmorph/tf/networks.py:129: UserWarning: unet_half_res is deprecated, use the svf_resolution parameter.\n",
      "  warnings.warn('unet_half_res is deprecated, use the svf_resolution parameter.')\n"
     ]
    },
    {
     "name": "stdout",
     "output_type": "stream",
     "text": [
      "1/1 [==============================] - 4s 4s/step\n",
      "1/1 [==============================] - 1s 776ms/step\n",
      "1/1 [==============================] - 1s 749ms/step\n"
     ]
    },
    {
     "name": "stderr",
     "output_type": "stream",
     "text": [
      "/home/ricardino/anaconda3/envs/misa_final/lib/python3.9/site-packages/voxelmorph/tf/networks.py:124: UserWarning: int_downsize is deprecated, use the int_resolution parameter.\n",
      "  warnings.warn('int_downsize is deprecated, use the int_resolution parameter.')\n",
      "/home/ricardino/anaconda3/envs/misa_final/lib/python3.9/site-packages/voxelmorph/tf/networks.py:129: UserWarning: unet_half_res is deprecated, use the svf_resolution parameter.\n",
      "  warnings.warn('unet_half_res is deprecated, use the svf_resolution parameter.')\n"
     ]
    },
    {
     "name": "stdout",
     "output_type": "stream",
     "text": [
      "1/1 [==============================] - 4s 4s/step\n",
      "1/1 [==============================] - 1s 796ms/step\n",
      "1/1 [==============================] - 1s 792ms/step\n"
     ]
    },
    {
     "name": "stderr",
     "output_type": "stream",
     "text": [
      "100%|██████████| 10/10 [01:32<00:00,  9.20s/it]\n",
      " 40%|████      | 2/5 [03:07<04:40, 93.50s/it]/home/ricardino/anaconda3/envs/misa_final/lib/python3.9/site-packages/voxelmorph/tf/networks.py:124: UserWarning: int_downsize is deprecated, use the int_resolution parameter.\n",
      "  warnings.warn('int_downsize is deprecated, use the int_resolution parameter.')\n",
      "/home/ricardino/anaconda3/envs/misa_final/lib/python3.9/site-packages/voxelmorph/tf/networks.py:129: UserWarning: unet_half_res is deprecated, use the svf_resolution parameter.\n",
      "  warnings.warn('unet_half_res is deprecated, use the svf_resolution parameter.')\n"
     ]
    },
    {
     "name": "stdout",
     "output_type": "stream",
     "text": [
      "1/1 [==============================] - 4s 4s/step\n",
      "1/1 [==============================] - 1s 815ms/step\n",
      "1/1 [==============================] - 1s 772ms/step\n"
     ]
    },
    {
     "name": "stderr",
     "output_type": "stream",
     "text": [
      "/home/ricardino/anaconda3/envs/misa_final/lib/python3.9/site-packages/voxelmorph/tf/networks.py:124: UserWarning: int_downsize is deprecated, use the int_resolution parameter.\n",
      "  warnings.warn('int_downsize is deprecated, use the int_resolution parameter.')\n",
      "/home/ricardino/anaconda3/envs/misa_final/lib/python3.9/site-packages/voxelmorph/tf/networks.py:129: UserWarning: unet_half_res is deprecated, use the svf_resolution parameter.\n",
      "  warnings.warn('unet_half_res is deprecated, use the svf_resolution parameter.')\n"
     ]
    },
    {
     "name": "stdout",
     "output_type": "stream",
     "text": [
      "1/1 [==============================] - 4s 4s/step\n",
      "1/1 [==============================] - 1s 761ms/step\n",
      "1/1 [==============================] - 1s 795ms/step\n"
     ]
    },
    {
     "name": "stderr",
     "output_type": "stream",
     "text": [
      "/home/ricardino/anaconda3/envs/misa_final/lib/python3.9/site-packages/voxelmorph/tf/networks.py:124: UserWarning: int_downsize is deprecated, use the int_resolution parameter.\n",
      "  warnings.warn('int_downsize is deprecated, use the int_resolution parameter.')\n",
      "/home/ricardino/anaconda3/envs/misa_final/lib/python3.9/site-packages/voxelmorph/tf/networks.py:129: UserWarning: unet_half_res is deprecated, use the svf_resolution parameter.\n",
      "  warnings.warn('unet_half_res is deprecated, use the svf_resolution parameter.')\n"
     ]
    },
    {
     "name": "stdout",
     "output_type": "stream",
     "text": [
      "1/1 [==============================] - 4s 4s/step\n",
      "1/1 [==============================] - 1s 792ms/step\n",
      "1/1 [==============================] - 2s 2s/step\n"
     ]
    },
    {
     "name": "stderr",
     "output_type": "stream",
     "text": [
      "/home/ricardino/anaconda3/envs/misa_final/lib/python3.9/site-packages/voxelmorph/tf/networks.py:124: UserWarning: int_downsize is deprecated, use the int_resolution parameter.\n",
      "  warnings.warn('int_downsize is deprecated, use the int_resolution parameter.')\n",
      "/home/ricardino/anaconda3/envs/misa_final/lib/python3.9/site-packages/voxelmorph/tf/networks.py:129: UserWarning: unet_half_res is deprecated, use the svf_resolution parameter.\n",
      "  warnings.warn('unet_half_res is deprecated, use the svf_resolution parameter.')\n"
     ]
    },
    {
     "name": "stdout",
     "output_type": "stream",
     "text": [
      "1/1 [==============================] - 4s 4s/step\n",
      "1/1 [==============================] - 1s 778ms/step\n",
      "1/1 [==============================] - 1s 762ms/step\n"
     ]
    },
    {
     "name": "stderr",
     "output_type": "stream",
     "text": [
      "/home/ricardino/anaconda3/envs/misa_final/lib/python3.9/site-packages/voxelmorph/tf/networks.py:124: UserWarning: int_downsize is deprecated, use the int_resolution parameter.\n",
      "  warnings.warn('int_downsize is deprecated, use the int_resolution parameter.')\n",
      "/home/ricardino/anaconda3/envs/misa_final/lib/python3.9/site-packages/voxelmorph/tf/networks.py:129: UserWarning: unet_half_res is deprecated, use the svf_resolution parameter.\n",
      "  warnings.warn('unet_half_res is deprecated, use the svf_resolution parameter.')\n"
     ]
    },
    {
     "name": "stdout",
     "output_type": "stream",
     "text": [
      "1/1 [==============================] - 4s 4s/step\n",
      "1/1 [==============================] - 1s 774ms/step\n",
      "1/1 [==============================] - 1s 779ms/step\n"
     ]
    },
    {
     "name": "stderr",
     "output_type": "stream",
     "text": [
      "/home/ricardino/anaconda3/envs/misa_final/lib/python3.9/site-packages/voxelmorph/tf/networks.py:124: UserWarning: int_downsize is deprecated, use the int_resolution parameter.\n",
      "  warnings.warn('int_downsize is deprecated, use the int_resolution parameter.')\n",
      "/home/ricardino/anaconda3/envs/misa_final/lib/python3.9/site-packages/voxelmorph/tf/networks.py:129: UserWarning: unet_half_res is deprecated, use the svf_resolution parameter.\n",
      "  warnings.warn('unet_half_res is deprecated, use the svf_resolution parameter.')\n"
     ]
    },
    {
     "name": "stdout",
     "output_type": "stream",
     "text": [
      "1/1 [==============================] - 4s 4s/step\n",
      "1/1 [==============================] - 1s 784ms/step\n",
      "1/1 [==============================] - 1s 765ms/step\n"
     ]
    },
    {
     "name": "stderr",
     "output_type": "stream",
     "text": [
      "/home/ricardino/anaconda3/envs/misa_final/lib/python3.9/site-packages/voxelmorph/tf/networks.py:124: UserWarning: int_downsize is deprecated, use the int_resolution parameter.\n",
      "  warnings.warn('int_downsize is deprecated, use the int_resolution parameter.')\n",
      "/home/ricardino/anaconda3/envs/misa_final/lib/python3.9/site-packages/voxelmorph/tf/networks.py:129: UserWarning: unet_half_res is deprecated, use the svf_resolution parameter.\n",
      "  warnings.warn('unet_half_res is deprecated, use the svf_resolution parameter.')\n"
     ]
    },
    {
     "name": "stdout",
     "output_type": "stream",
     "text": [
      "1/1 [==============================] - 4s 4s/step\n",
      "1/1 [==============================] - 1s 811ms/step\n",
      "1/1 [==============================] - 1s 789ms/step\n"
     ]
    },
    {
     "name": "stderr",
     "output_type": "stream",
     "text": [
      "/home/ricardino/anaconda3/envs/misa_final/lib/python3.9/site-packages/voxelmorph/tf/networks.py:124: UserWarning: int_downsize is deprecated, use the int_resolution parameter.\n",
      "  warnings.warn('int_downsize is deprecated, use the int_resolution parameter.')\n",
      "/home/ricardino/anaconda3/envs/misa_final/lib/python3.9/site-packages/voxelmorph/tf/networks.py:129: UserWarning: unet_half_res is deprecated, use the svf_resolution parameter.\n",
      "  warnings.warn('unet_half_res is deprecated, use the svf_resolution parameter.')\n"
     ]
    },
    {
     "name": "stdout",
     "output_type": "stream",
     "text": [
      "1/1 [==============================] - 4s 4s/step\n",
      "1/1 [==============================] - 1s 787ms/step\n",
      "1/1 [==============================] - 1s 793ms/step\n"
     ]
    },
    {
     "name": "stderr",
     "output_type": "stream",
     "text": [
      "/home/ricardino/anaconda3/envs/misa_final/lib/python3.9/site-packages/voxelmorph/tf/networks.py:124: UserWarning: int_downsize is deprecated, use the int_resolution parameter.\n",
      "  warnings.warn('int_downsize is deprecated, use the int_resolution parameter.')\n",
      "/home/ricardino/anaconda3/envs/misa_final/lib/python3.9/site-packages/voxelmorph/tf/networks.py:129: UserWarning: unet_half_res is deprecated, use the svf_resolution parameter.\n",
      "  warnings.warn('unet_half_res is deprecated, use the svf_resolution parameter.')\n"
     ]
    },
    {
     "name": "stdout",
     "output_type": "stream",
     "text": [
      "1/1 [==============================] - 4s 4s/step\n",
      "1/1 [==============================] - 1s 793ms/step\n",
      "1/1 [==============================] - 1s 796ms/step\n"
     ]
    },
    {
     "name": "stderr",
     "output_type": "stream",
     "text": [
      "/home/ricardino/anaconda3/envs/misa_final/lib/python3.9/site-packages/voxelmorph/tf/networks.py:124: UserWarning: int_downsize is deprecated, use the int_resolution parameter.\n",
      "  warnings.warn('int_downsize is deprecated, use the int_resolution parameter.')\n",
      "/home/ricardino/anaconda3/envs/misa_final/lib/python3.9/site-packages/voxelmorph/tf/networks.py:129: UserWarning: unet_half_res is deprecated, use the svf_resolution parameter.\n",
      "  warnings.warn('unet_half_res is deprecated, use the svf_resolution parameter.')\n"
     ]
    },
    {
     "name": "stdout",
     "output_type": "stream",
     "text": [
      "1/1 [==============================] - 4s 4s/step\n",
      "1/1 [==============================] - 1s 782ms/step\n",
      "1/1 [==============================] - 1s 813ms/step\n"
     ]
    },
    {
     "name": "stderr",
     "output_type": "stream",
     "text": [
      "100%|██████████| 10/10 [01:33<00:00,  9.33s/it]\n",
      " 60%|██████    | 3/5 [04:40<03:06, 93.41s/it]/home/ricardino/anaconda3/envs/misa_final/lib/python3.9/site-packages/voxelmorph/tf/networks.py:124: UserWarning: int_downsize is deprecated, use the int_resolution parameter.\n",
      "  warnings.warn('int_downsize is deprecated, use the int_resolution parameter.')\n",
      "/home/ricardino/anaconda3/envs/misa_final/lib/python3.9/site-packages/voxelmorph/tf/networks.py:129: UserWarning: unet_half_res is deprecated, use the svf_resolution parameter.\n",
      "  warnings.warn('unet_half_res is deprecated, use the svf_resolution parameter.')\n"
     ]
    },
    {
     "name": "stdout",
     "output_type": "stream",
     "text": [
      "1/1 [==============================] - 4s 4s/step\n",
      "1/1 [==============================] - 1s 811ms/step\n",
      "1/1 [==============================] - 1s 793ms/step\n"
     ]
    },
    {
     "name": "stderr",
     "output_type": "stream",
     "text": [
      "/home/ricardino/anaconda3/envs/misa_final/lib/python3.9/site-packages/voxelmorph/tf/networks.py:124: UserWarning: int_downsize is deprecated, use the int_resolution parameter.\n",
      "  warnings.warn('int_downsize is deprecated, use the int_resolution parameter.')\n",
      "/home/ricardino/anaconda3/envs/misa_final/lib/python3.9/site-packages/voxelmorph/tf/networks.py:129: UserWarning: unet_half_res is deprecated, use the svf_resolution parameter.\n",
      "  warnings.warn('unet_half_res is deprecated, use the svf_resolution parameter.')\n"
     ]
    },
    {
     "name": "stdout",
     "output_type": "stream",
     "text": [
      "1/1 [==============================] - 4s 4s/step\n",
      "1/1 [==============================] - 1s 782ms/step\n",
      "1/1 [==============================] - 1s 789ms/step\n"
     ]
    },
    {
     "name": "stderr",
     "output_type": "stream",
     "text": [
      "/home/ricardino/anaconda3/envs/misa_final/lib/python3.9/site-packages/voxelmorph/tf/networks.py:124: UserWarning: int_downsize is deprecated, use the int_resolution parameter.\n",
      "  warnings.warn('int_downsize is deprecated, use the int_resolution parameter.')\n",
      "/home/ricardino/anaconda3/envs/misa_final/lib/python3.9/site-packages/voxelmorph/tf/networks.py:129: UserWarning: unet_half_res is deprecated, use the svf_resolution parameter.\n",
      "  warnings.warn('unet_half_res is deprecated, use the svf_resolution parameter.')\n"
     ]
    },
    {
     "name": "stdout",
     "output_type": "stream",
     "text": [
      "1/1 [==============================] - 5s 5s/step\n",
      "1/1 [==============================] - 1s 816ms/step\n",
      "1/1 [==============================] - 1s 784ms/step\n"
     ]
    },
    {
     "name": "stderr",
     "output_type": "stream",
     "text": [
      "/home/ricardino/anaconda3/envs/misa_final/lib/python3.9/site-packages/voxelmorph/tf/networks.py:124: UserWarning: int_downsize is deprecated, use the int_resolution parameter.\n",
      "  warnings.warn('int_downsize is deprecated, use the int_resolution parameter.')\n",
      "/home/ricardino/anaconda3/envs/misa_final/lib/python3.9/site-packages/voxelmorph/tf/networks.py:129: UserWarning: unet_half_res is deprecated, use the svf_resolution parameter.\n",
      "  warnings.warn('unet_half_res is deprecated, use the svf_resolution parameter.')\n"
     ]
    },
    {
     "name": "stdout",
     "output_type": "stream",
     "text": [
      "1/1 [==============================] - 4s 4s/step\n",
      "1/1 [==============================] - 1s 781ms/step\n",
      "1/1 [==============================] - 1s 759ms/step\n"
     ]
    },
    {
     "name": "stderr",
     "output_type": "stream",
     "text": [
      "/home/ricardino/anaconda3/envs/misa_final/lib/python3.9/site-packages/voxelmorph/tf/networks.py:124: UserWarning: int_downsize is deprecated, use the int_resolution parameter.\n",
      "  warnings.warn('int_downsize is deprecated, use the int_resolution parameter.')\n",
      "/home/ricardino/anaconda3/envs/misa_final/lib/python3.9/site-packages/voxelmorph/tf/networks.py:129: UserWarning: unet_half_res is deprecated, use the svf_resolution parameter.\n",
      "  warnings.warn('unet_half_res is deprecated, use the svf_resolution parameter.')\n"
     ]
    },
    {
     "name": "stdout",
     "output_type": "stream",
     "text": [
      "1/1 [==============================] - 4s 4s/step\n",
      "1/1 [==============================] - 1s 787ms/step\n",
      "1/1 [==============================] - 1s 761ms/step\n"
     ]
    },
    {
     "name": "stderr",
     "output_type": "stream",
     "text": [
      "/home/ricardino/anaconda3/envs/misa_final/lib/python3.9/site-packages/voxelmorph/tf/networks.py:124: UserWarning: int_downsize is deprecated, use the int_resolution parameter.\n",
      "  warnings.warn('int_downsize is deprecated, use the int_resolution parameter.')\n",
      "/home/ricardino/anaconda3/envs/misa_final/lib/python3.9/site-packages/voxelmorph/tf/networks.py:129: UserWarning: unet_half_res is deprecated, use the svf_resolution parameter.\n",
      "  warnings.warn('unet_half_res is deprecated, use the svf_resolution parameter.')\n"
     ]
    },
    {
     "name": "stdout",
     "output_type": "stream",
     "text": [
      "1/1 [==============================] - 4s 4s/step\n",
      "1/1 [==============================] - 1s 776ms/step\n",
      "1/1 [==============================] - 1s 771ms/step\n"
     ]
    },
    {
     "name": "stderr",
     "output_type": "stream",
     "text": [
      "/home/ricardino/anaconda3/envs/misa_final/lib/python3.9/site-packages/voxelmorph/tf/networks.py:124: UserWarning: int_downsize is deprecated, use the int_resolution parameter.\n",
      "  warnings.warn('int_downsize is deprecated, use the int_resolution parameter.')\n",
      "/home/ricardino/anaconda3/envs/misa_final/lib/python3.9/site-packages/voxelmorph/tf/networks.py:129: UserWarning: unet_half_res is deprecated, use the svf_resolution parameter.\n",
      "  warnings.warn('unet_half_res is deprecated, use the svf_resolution parameter.')\n"
     ]
    },
    {
     "name": "stdout",
     "output_type": "stream",
     "text": [
      "1/1 [==============================] - 4s 4s/step\n",
      "1/1 [==============================] - 2s 2s/step\n",
      "1/1 [==============================] - 1s 817ms/step\n"
     ]
    },
    {
     "name": "stderr",
     "output_type": "stream",
     "text": [
      "/home/ricardino/anaconda3/envs/misa_final/lib/python3.9/site-packages/voxelmorph/tf/networks.py:124: UserWarning: int_downsize is deprecated, use the int_resolution parameter.\n",
      "  warnings.warn('int_downsize is deprecated, use the int_resolution parameter.')\n",
      "/home/ricardino/anaconda3/envs/misa_final/lib/python3.9/site-packages/voxelmorph/tf/networks.py:129: UserWarning: unet_half_res is deprecated, use the svf_resolution parameter.\n",
      "  warnings.warn('unet_half_res is deprecated, use the svf_resolution parameter.')\n"
     ]
    },
    {
     "name": "stdout",
     "output_type": "stream",
     "text": [
      "1/1 [==============================] - 5s 5s/step\n",
      "1/1 [==============================] - 1s 792ms/step\n",
      "1/1 [==============================] - 1s 773ms/step\n"
     ]
    },
    {
     "name": "stderr",
     "output_type": "stream",
     "text": [
      "/home/ricardino/anaconda3/envs/misa_final/lib/python3.9/site-packages/voxelmorph/tf/networks.py:124: UserWarning: int_downsize is deprecated, use the int_resolution parameter.\n",
      "  warnings.warn('int_downsize is deprecated, use the int_resolution parameter.')\n",
      "/home/ricardino/anaconda3/envs/misa_final/lib/python3.9/site-packages/voxelmorph/tf/networks.py:129: UserWarning: unet_half_res is deprecated, use the svf_resolution parameter.\n",
      "  warnings.warn('unet_half_res is deprecated, use the svf_resolution parameter.')\n"
     ]
    },
    {
     "name": "stdout",
     "output_type": "stream",
     "text": [
      "1/1 [==============================] - 4s 4s/step\n",
      "1/1 [==============================] - 1s 811ms/step\n",
      "1/1 [==============================] - 1s 772ms/step\n"
     ]
    },
    {
     "name": "stderr",
     "output_type": "stream",
     "text": [
      "/home/ricardino/anaconda3/envs/misa_final/lib/python3.9/site-packages/voxelmorph/tf/networks.py:124: UserWarning: int_downsize is deprecated, use the int_resolution parameter.\n",
      "  warnings.warn('int_downsize is deprecated, use the int_resolution parameter.')\n",
      "/home/ricardino/anaconda3/envs/misa_final/lib/python3.9/site-packages/voxelmorph/tf/networks.py:129: UserWarning: unet_half_res is deprecated, use the svf_resolution parameter.\n",
      "  warnings.warn('unet_half_res is deprecated, use the svf_resolution parameter.')\n"
     ]
    },
    {
     "name": "stdout",
     "output_type": "stream",
     "text": [
      "1/1 [==============================] - 4s 4s/step\n",
      "1/1 [==============================] - 1s 781ms/step\n",
      "1/1 [==============================] - 1s 761ms/step\n"
     ]
    },
    {
     "name": "stderr",
     "output_type": "stream",
     "text": [
      "100%|██████████| 10/10 [01:36<00:00,  9.61s/it]\n",
      " 80%|████████  | 4/5 [06:17<01:34, 94.46s/it]/home/ricardino/anaconda3/envs/misa_final/lib/python3.9/site-packages/voxelmorph/tf/networks.py:124: UserWarning: int_downsize is deprecated, use the int_resolution parameter.\n",
      "  warnings.warn('int_downsize is deprecated, use the int_resolution parameter.')\n",
      "/home/ricardino/anaconda3/envs/misa_final/lib/python3.9/site-packages/voxelmorph/tf/networks.py:129: UserWarning: unet_half_res is deprecated, use the svf_resolution parameter.\n",
      "  warnings.warn('unet_half_res is deprecated, use the svf_resolution parameter.')\n"
     ]
    },
    {
     "name": "stdout",
     "output_type": "stream",
     "text": [
      "1/1 [==============================] - 4s 4s/step\n",
      "1/1 [==============================] - 1s 765ms/step\n",
      "1/1 [==============================] - 1s 808ms/step\n"
     ]
    },
    {
     "name": "stderr",
     "output_type": "stream",
     "text": [
      "/home/ricardino/anaconda3/envs/misa_final/lib/python3.9/site-packages/voxelmorph/tf/networks.py:124: UserWarning: int_downsize is deprecated, use the int_resolution parameter.\n",
      "  warnings.warn('int_downsize is deprecated, use the int_resolution parameter.')\n",
      "/home/ricardino/anaconda3/envs/misa_final/lib/python3.9/site-packages/voxelmorph/tf/networks.py:129: UserWarning: unet_half_res is deprecated, use the svf_resolution parameter.\n",
      "  warnings.warn('unet_half_res is deprecated, use the svf_resolution parameter.')\n"
     ]
    },
    {
     "name": "stdout",
     "output_type": "stream",
     "text": [
      "1/1 [==============================] - 4s 4s/step\n",
      "1/1 [==============================] - 1s 838ms/step\n",
      "1/1 [==============================] - 1s 763ms/step\n"
     ]
    },
    {
     "name": "stderr",
     "output_type": "stream",
     "text": [
      "/home/ricardino/anaconda3/envs/misa_final/lib/python3.9/site-packages/voxelmorph/tf/networks.py:124: UserWarning: int_downsize is deprecated, use the int_resolution parameter.\n",
      "  warnings.warn('int_downsize is deprecated, use the int_resolution parameter.')\n",
      "/home/ricardino/anaconda3/envs/misa_final/lib/python3.9/site-packages/voxelmorph/tf/networks.py:129: UserWarning: unet_half_res is deprecated, use the svf_resolution parameter.\n",
      "  warnings.warn('unet_half_res is deprecated, use the svf_resolution parameter.')\n"
     ]
    },
    {
     "name": "stdout",
     "output_type": "stream",
     "text": [
      "1/1 [==============================] - 4s 4s/step\n",
      "1/1 [==============================] - 1s 828ms/step\n",
      "1/1 [==============================] - 1s 791ms/step\n"
     ]
    },
    {
     "name": "stderr",
     "output_type": "stream",
     "text": [
      "/home/ricardino/anaconda3/envs/misa_final/lib/python3.9/site-packages/voxelmorph/tf/networks.py:124: UserWarning: int_downsize is deprecated, use the int_resolution parameter.\n",
      "  warnings.warn('int_downsize is deprecated, use the int_resolution parameter.')\n",
      "/home/ricardino/anaconda3/envs/misa_final/lib/python3.9/site-packages/voxelmorph/tf/networks.py:129: UserWarning: unet_half_res is deprecated, use the svf_resolution parameter.\n",
      "  warnings.warn('unet_half_res is deprecated, use the svf_resolution parameter.')\n"
     ]
    },
    {
     "name": "stdout",
     "output_type": "stream",
     "text": [
      "1/1 [==============================] - 4s 4s/step\n",
      "1/1 [==============================] - 1s 779ms/step\n",
      "1/1 [==============================] - 1s 800ms/step\n"
     ]
    },
    {
     "name": "stderr",
     "output_type": "stream",
     "text": [
      "/home/ricardino/anaconda3/envs/misa_final/lib/python3.9/site-packages/voxelmorph/tf/networks.py:124: UserWarning: int_downsize is deprecated, use the int_resolution parameter.\n",
      "  warnings.warn('int_downsize is deprecated, use the int_resolution parameter.')\n",
      "/home/ricardino/anaconda3/envs/misa_final/lib/python3.9/site-packages/voxelmorph/tf/networks.py:129: UserWarning: unet_half_res is deprecated, use the svf_resolution parameter.\n",
      "  warnings.warn('unet_half_res is deprecated, use the svf_resolution parameter.')\n"
     ]
    },
    {
     "name": "stdout",
     "output_type": "stream",
     "text": [
      "1/1 [==============================] - 4s 4s/step\n",
      "1/1 [==============================] - 1s 828ms/step\n",
      "1/1 [==============================] - 1s 789ms/step\n"
     ]
    },
    {
     "name": "stderr",
     "output_type": "stream",
     "text": [
      "/home/ricardino/anaconda3/envs/misa_final/lib/python3.9/site-packages/voxelmorph/tf/networks.py:124: UserWarning: int_downsize is deprecated, use the int_resolution parameter.\n",
      "  warnings.warn('int_downsize is deprecated, use the int_resolution parameter.')\n",
      "/home/ricardino/anaconda3/envs/misa_final/lib/python3.9/site-packages/voxelmorph/tf/networks.py:129: UserWarning: unet_half_res is deprecated, use the svf_resolution parameter.\n",
      "  warnings.warn('unet_half_res is deprecated, use the svf_resolution parameter.')\n"
     ]
    },
    {
     "name": "stdout",
     "output_type": "stream",
     "text": [
      "1/1 [==============================] - 5s 5s/step\n",
      "1/1 [==============================] - 1s 804ms/step\n",
      "1/1 [==============================] - 1s 796ms/step\n"
     ]
    },
    {
     "name": "stderr",
     "output_type": "stream",
     "text": [
      "/home/ricardino/anaconda3/envs/misa_final/lib/python3.9/site-packages/voxelmorph/tf/networks.py:124: UserWarning: int_downsize is deprecated, use the int_resolution parameter.\n",
      "  warnings.warn('int_downsize is deprecated, use the int_resolution parameter.')\n",
      "/home/ricardino/anaconda3/envs/misa_final/lib/python3.9/site-packages/voxelmorph/tf/networks.py:129: UserWarning: unet_half_res is deprecated, use the svf_resolution parameter.\n",
      "  warnings.warn('unet_half_res is deprecated, use the svf_resolution parameter.')\n"
     ]
    },
    {
     "name": "stdout",
     "output_type": "stream",
     "text": [
      "1/1 [==============================] - 4s 4s/step\n",
      "1/1 [==============================] - 1s 784ms/step\n",
      "1/1 [==============================] - 1s 775ms/step\n"
     ]
    },
    {
     "name": "stderr",
     "output_type": "stream",
     "text": [
      "/home/ricardino/anaconda3/envs/misa_final/lib/python3.9/site-packages/voxelmorph/tf/networks.py:124: UserWarning: int_downsize is deprecated, use the int_resolution parameter.\n",
      "  warnings.warn('int_downsize is deprecated, use the int_resolution parameter.')\n",
      "/home/ricardino/anaconda3/envs/misa_final/lib/python3.9/site-packages/voxelmorph/tf/networks.py:129: UserWarning: unet_half_res is deprecated, use the svf_resolution parameter.\n",
      "  warnings.warn('unet_half_res is deprecated, use the svf_resolution parameter.')\n"
     ]
    },
    {
     "name": "stdout",
     "output_type": "stream",
     "text": [
      "1/1 [==============================] - 4s 4s/step\n",
      "1/1 [==============================] - 1s 773ms/step\n",
      "1/1 [==============================] - 1s 785ms/step\n"
     ]
    },
    {
     "name": "stderr",
     "output_type": "stream",
     "text": [
      "/home/ricardino/anaconda3/envs/misa_final/lib/python3.9/site-packages/voxelmorph/tf/networks.py:124: UserWarning: int_downsize is deprecated, use the int_resolution parameter.\n",
      "  warnings.warn('int_downsize is deprecated, use the int_resolution parameter.')\n",
      "/home/ricardino/anaconda3/envs/misa_final/lib/python3.9/site-packages/voxelmorph/tf/networks.py:129: UserWarning: unet_half_res is deprecated, use the svf_resolution parameter.\n",
      "  warnings.warn('unet_half_res is deprecated, use the svf_resolution parameter.')\n"
     ]
    },
    {
     "name": "stdout",
     "output_type": "stream",
     "text": [
      "1/1 [==============================] - 4s 4s/step\n",
      "1/1 [==============================] - 1s 715ms/step\n",
      "1/1 [==============================] - 1s 737ms/step\n"
     ]
    },
    {
     "name": "stderr",
     "output_type": "stream",
     "text": [
      "/home/ricardino/anaconda3/envs/misa_final/lib/python3.9/site-packages/voxelmorph/tf/networks.py:124: UserWarning: int_downsize is deprecated, use the int_resolution parameter.\n",
      "  warnings.warn('int_downsize is deprecated, use the int_resolution parameter.')\n",
      "/home/ricardino/anaconda3/envs/misa_final/lib/python3.9/site-packages/voxelmorph/tf/networks.py:129: UserWarning: unet_half_res is deprecated, use the svf_resolution parameter.\n",
      "  warnings.warn('unet_half_res is deprecated, use the svf_resolution parameter.')\n"
     ]
    },
    {
     "name": "stdout",
     "output_type": "stream",
     "text": [
      "1/1 [==============================] - 4s 4s/step\n",
      "1/1 [==============================] - 1s 792ms/step\n",
      "1/1 [==============================] - 1s 787ms/step\n"
     ]
    },
    {
     "name": "stderr",
     "output_type": "stream",
     "text": [
      "100%|██████████| 10/10 [01:36<00:00,  9.60s/it]\n",
      "100%|██████████| 5/5 [07:53<00:00, 94.60s/it]\n"
     ]
    }
   ],
   "source": [
    "#define datasets\n",
    "im_data_train = ImageDataset(set_name='Training')\n",
    "im_data_val = ImageDataset(set_name='Validation')\n",
    "\n",
    "\n",
    "for id_val in tqdm(im_data_val.IDs):\n",
    "    #define dataframe to save results\n",
    "    df_val = None\n",
    "    for id_train in tqdm(im_data_train.IDs):\n",
    "        #Moving image\n",
    "        #id_train = im_data_train.IDs[5]\n",
    "        pat_train = patient(id_train, im_data_train)\n",
    "        moving_path = pat_train.im_path_norm\n",
    "        label_path = pat_train.labels_path\n",
    "\n",
    "        #Fixed image\n",
    "        #id_val = im_data_val.IDs[0]\n",
    "        pat_val = patient(id_val, im_data_val)\n",
    "        fixed_path = pat_val.im_path_norm\n",
    "        ground_truth = pat_val.labels(format='np')\n",
    "\n",
    "        #register using voxelmorph\n",
    "        moved, moved_label, warp, fixed_affine = voxmorph_register(fixed_path, moving_path, label_path)\n",
    "\n",
    "        # save moved image and label\n",
    "        moved_path = str(repo_path / f'data/voxelmorph/moved_{id_train}_to_{id_val}.nii.gz')\n",
    "        moved_label_path = str(repo_path / f'data/voxelmorph/moved_labels_{id_train}_to_{id_val}.nii.gz')\n",
    "        vxm.py.utils.save_volfile(moved.squeeze(), moved_path, fixed_affine)\n",
    "        vxm.py.utils.save_volfile(np.rint(moved_label.squeeze()), moved_label_path, fixed_affine)\n",
    "\n",
    "        #compute metric\n",
    "        metric = compute_maattesMI(moved_path, fixed_path)\n",
    "        #compute dice\n",
    "        new_label = sitk.GetArrayFromImage(sitk.ReadImage(moved_label_path))\n",
    "        dice = [utils.dice_score(new_label==tissue,ground_truth==tissue) for tissue in range(1,4)]\n",
    "        #save in dataframe. Columns are dice CSF, dice GM, dice WM, metric\n",
    "        df = pd.DataFrame([[id_train] + dice+[metric]], columns=['id_train', 'dice CSF', 'dice GM', 'dice WM', 'metric'])\n",
    "        #concatenate with previous results\n",
    "        df_val = pd.concat([df_val, df], ignore_index=True)\n",
    "    #arange in descending order (most negative metric is the best)\n",
    "    df_val = df_val.sort_values(by='metric', ascending=True)\n",
    "    #save dataframe\n",
    "    df_val.to_csv(str(repo_path / f'data/results/most_similar_{id_val}.csv'), index=False)"
   ]
  }
 ],
 "metadata": {
  "kernelspec": {
   "display_name": "misa_final",
   "language": "python",
   "name": "python3"
  },
  "language_info": {
   "codemirror_mode": {
    "name": "ipython",
    "version": 3
   },
   "file_extension": ".py",
   "mimetype": "text/x-python",
   "name": "python",
   "nbconvert_exporter": "python",
   "pygments_lexer": "ipython3",
   "version": "3.9.15"
  },
  "orig_nbformat": 4,
  "vscode": {
   "interpreter": {
    "hash": "cff243af6c3d0a2893d2e87262cea0e9d750ffc752eaeb95474b08792ecfb50d"
   }
  }
 },
 "nbformat": 4,
 "nbformat_minor": 2
}

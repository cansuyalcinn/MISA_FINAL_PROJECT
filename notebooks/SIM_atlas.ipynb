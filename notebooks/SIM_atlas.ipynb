{
 "cells": [
  {
   "attachments": {},
   "cell_type": "markdown",
   "metadata": {},
   "source": [
    "This notebook contains the code of the most similar atlas (SIM) approach "
   ]
  },
  {
   "cell_type": "code",
   "execution_count": 2,
   "metadata": {},
   "outputs": [],
   "source": [
    "# Import libraries\n",
    "from pathlib import Path\n",
    "import pandas as pd\n",
    "import SimpleITK as sitk\n",
    "import matplotlib.pyplot as plt\n",
    "import pickle\n",
    "from tqdm import tqdm\n",
    "\n",
    "from metadata import ImageDataset, patient"
   ]
  },
  {
   "cell_type": "code",
   "execution_count": 3,
   "metadata": {},
   "outputs": [
    {
     "name": "stdout",
     "output_type": "stream",
     "text": [
      "The current directory is: d:\\VS_Projects\\MISA_FINAL_PROJECT\\notebooks\n"
     ]
    }
   ],
   "source": [
    "notebook_path = Path().cwd()\n",
    "repo_path = notebook_path.parent\n",
    "print(f'The current directory is: {notebook_path}')"
   ]
  },
  {
   "cell_type": "code",
   "execution_count": 4,
   "metadata": {},
   "outputs": [
    {
     "name": "stdout",
     "output_type": "stream",
     "text": [
      "selected id: 01\n"
     ]
    }
   ],
   "source": [
    "#instantiate dataset, specify set name\n",
    "img_training_data = ImageDataset('Training')\n",
    "im_val_data = ImageDataset('Validation')\n",
    "\n",
    "#check length\n",
    "# print(f'len: {img_training_data.len}')\n",
    "# #get all ids (useful to iterate over all adataset)\n",
    "# print(f'all ids: {img_training_data.IDs}')\n",
    "# #get list of all images paths for training\n",
    "# print(f'images paths: {img_training_data.im_paths()}')\n",
    "# #same for the labels\n",
    "# print(f'images paths: {img_training_data.labels_paths()}')\n",
    "\n",
    "\n",
    "#select one id of patient to check\n",
    "id = img_training_data.IDs[0]\n",
    "id_val = im_val_data.IDs[0]\n",
    "print(f'selected id: {id}')\n",
    "#istantiate patient object using the id and the previous ImageDataset object\n",
    "pat = patient(id, img_training_data)\n",
    "pat_val = patient(id_val, im_val_data)\n",
    "\n",
    "# pat.show('labels')\n",
    "# pat.show('im')\n",
    "\n",
    "# Get the image and the labels\n",
    "im = pat.im()\n",
    "labels = pat.labels()\n",
    "\n",
    "im_val = pat_val.im()\n",
    "labels_val = pat_val.labels()"
   ]
  },
  {
   "cell_type": "code",
   "execution_count": 5,
   "metadata": {},
   "outputs": [],
   "source": [
    "def image_registration(fixedImage, movingImage):\n",
    "    \"\"\"Give two images and the registration of both, and its transformation map will be given\n",
    "\n",
    "    Args:\n",
    "        fixed_path (str): fixed (template) image\n",
    "        moving_path (str): moving image (image that will be transformed)\n",
    "\n",
    "    Returns:\n",
    "        sitk image, transformix map: transformed image and the transformation map\n",
    "    \"\"\"\n",
    "\n",
    "    #Start registration settings\n",
    "    elastixImageFilter = sitk.ElastixImageFilter() #Image filter object\n",
    "    #Defining settings\n",
    "    elastixImageFilter.SetFixedImage(fixedImage)\n",
    "    elastixImageFilter.SetMovingImage(movingImage)\n",
    "\n",
    "    #Run registration\n",
    "    elastixImageFilter.Execute()\n",
    "\n",
    "    #Get result image\n",
    "    resultImage = elastixImageFilter.GetResultImage()\n",
    "\n",
    "    #Transformation map\n",
    "    transformParameterMap = elastixImageFilter.GetTransformParameterMap()\n",
    "    transformParameterMap[0][\"ResampleInterpolator\"] = [\"FinalNearestNeighborInterpolator\"]\n",
    "    transformParameterMap[1][\"ResampleInterpolator\"] = [\"FinalNearestNeighborInterpolator\"]    \n",
    "    transformParameterMap[2][\"ResampleInterpolator\"] = [\"FinalNearestNeighborInterpolator\"]\n",
    "    return resultImage, transformParameterMap"
   ]
  },
  {
   "attachments": {},
   "cell_type": "markdown",
   "metadata": {},
   "source": [
    "### Registration and label propagation"
   ]
  },
  {
   "cell_type": "code",
   "execution_count": 7,
   "metadata": {},
   "outputs": [
    {
     "name": "stderr",
     "output_type": "stream",
     "text": [
      "  0%|          | 0/10 [00:00<?, ?it/s]"
     ]
    },
    {
     "name": "stdout",
     "output_type": "stream",
     "text": [
      "Registering training image 01 to validation image 11...\n"
     ]
    },
    {
     "name": "stderr",
     "output_type": "stream",
     "text": [
      "C:\\Users\\Lenovo\\AppData\\Local\\Temp\\ipykernel_1556\\3729935244.py:32: MatplotlibDeprecationWarning: Auto-removal of overlapping axes is deprecated since 3.6 and will be removed two minor releases later; explicitly call ax.remove() as needed.\n",
      "  plt.subplot(2,2,1)\n",
      "  0%|          | 0/10 [03:04<?, ?it/s]\n"
     ]
    },
    {
     "ename": "IndexError",
     "evalue": "index 135 is out of bounds for axis 1 with size 128",
     "output_type": "error",
     "traceback": [
      "\u001b[1;31m---------------------------------------------------------------------------\u001b[0m",
      "\u001b[1;31mIndexError\u001b[0m                                Traceback (most recent call last)",
      "\u001b[1;32m~\\AppData\\Local\\Temp\\ipykernel_1556\\3729935244.py\u001b[0m in \u001b[0;36m<module>\u001b[1;34m\u001b[0m\n\u001b[0;32m     31\u001b[0m         \u001b[0mplt\u001b[0m\u001b[1;33m.\u001b[0m\u001b[0mtitle\u001b[0m\u001b[1;33m(\u001b[0m\u001b[1;34m'Moving image, fixed image and registered image and propagated labels'\u001b[0m\u001b[1;33m)\u001b[0m\u001b[1;33m\u001b[0m\u001b[1;33m\u001b[0m\u001b[0m\n\u001b[0;32m     32\u001b[0m         \u001b[0mplt\u001b[0m\u001b[1;33m.\u001b[0m\u001b[0msubplot\u001b[0m\u001b[1;33m(\u001b[0m\u001b[1;36m2\u001b[0m\u001b[1;33m,\u001b[0m\u001b[1;36m2\u001b[0m\u001b[1;33m,\u001b[0m\u001b[1;36m1\u001b[0m\u001b[1;33m)\u001b[0m\u001b[1;33m\u001b[0m\u001b[1;33m\u001b[0m\u001b[0m\n\u001b[1;32m---> 33\u001b[1;33m         \u001b[0mplt\u001b[0m\u001b[1;33m.\u001b[0m\u001b[0mimshow\u001b[0m\u001b[1;33m(\u001b[0m\u001b[0msitk\u001b[0m\u001b[1;33m.\u001b[0m\u001b[0mGetArrayFromImage\u001b[0m\u001b[1;33m(\u001b[0m\u001b[0mmoving_image\u001b[0m\u001b[1;33m)\u001b[0m\u001b[1;33m[\u001b[0m\u001b[1;33m:\u001b[0m\u001b[1;33m,\u001b[0m\u001b[1;36m135\u001b[0m\u001b[1;33m,\u001b[0m\u001b[1;33m:\u001b[0m\u001b[1;33m]\u001b[0m\u001b[1;33m,\u001b[0m \u001b[0mcmap\u001b[0m\u001b[1;33m=\u001b[0m\u001b[1;34m'gray'\u001b[0m\u001b[1;33m)\u001b[0m\u001b[1;33m\u001b[0m\u001b[1;33m\u001b[0m\u001b[0m\n\u001b[0m\u001b[0;32m     34\u001b[0m         \u001b[0mplt\u001b[0m\u001b[1;33m.\u001b[0m\u001b[0mtitle\u001b[0m\u001b[1;33m(\u001b[0m\u001b[1;34m'Moving image'\u001b[0m\u001b[1;33m)\u001b[0m\u001b[1;33m\u001b[0m\u001b[1;33m\u001b[0m\u001b[0m\n\u001b[0;32m     35\u001b[0m         \u001b[0mplt\u001b[0m\u001b[1;33m.\u001b[0m\u001b[0msubplot\u001b[0m\u001b[1;33m(\u001b[0m\u001b[1;36m2\u001b[0m\u001b[1;33m,\u001b[0m\u001b[1;36m2\u001b[0m\u001b[1;33m,\u001b[0m\u001b[1;36m2\u001b[0m\u001b[1;33m)\u001b[0m\u001b[1;33m\u001b[0m\u001b[1;33m\u001b[0m\u001b[0m\n",
      "\u001b[1;31mIndexError\u001b[0m: index 135 is out of bounds for axis 1 with size 128"
     ]
    },
    {
     "data": {
      "image/png": "[encoded data removed]",
      "text/plain": [
       "<Figure size 640x480 with 1 Axes>"
      ]
     },
     "metadata": {},
     "output_type": "display_data"
    }
   ],
   "source": [
    "# for each training image, register it to the validation image\n",
    "# add tqdm to see progress\n",
    "\n",
    "list_labels = []\n",
    "for i in tqdm(range(len(img_training_data.IDs))):\n",
    "    id = img_training_data.IDs[i]\n",
    "    pat = patient(id, img_training_data)\n",
    "    moving_image = pat.im(preprocess=True)\n",
    "    labels = pat.labels()\n",
    "\n",
    "    for v in range(len(im_val_data.IDs)):\n",
    "\n",
    "        id_val = im_val_data.IDs[v]\n",
    "\n",
    "        print(f'Registering training image {id} to validation image {id_val}...')\n",
    "\n",
    "        pat_val = patient(id_val, im_val_data)\n",
    "        fixed_image = pat_val.im()\n",
    "        labels_val = pat_val.labels()\n",
    "\n",
    "        resultImage, transformParameterMap = image_registration(fixed_image, moving_image) #Resgiter images using predefined transform map\n",
    "\n",
    "        transformixImageFilter = sitk.TransformixImageFilter() #Create object transform matrix\n",
    "        transformixImageFilter.SetTransformParameterMap(transformParameterMap) #Set with found transform\n",
    "        transformixImageFilter.SetMovingImage(labels_val) #set labels as moving\n",
    "        transformixImageFilter.Execute() #Tranform labels\n",
    "\n",
    "        labels_registered = transformixImageFilter.GetResultImage() #Propagated labels,\n",
    "\n",
    "        # make the subplot of the moving image, fixed image and registered image, and propagated labels\n",
    "        plt.title('Moving image, fixed image and registered image and propagated labels')\n",
    "        plt.subplot(2,2,1)  \n",
    "        plt.imshow(sitk.GetArrayFromImage(moving_image)[135], cmap='gray')\n",
    "        plt.title('Moving image')\n",
    "        plt.subplot(2,2,2)\n",
    "        plt.imshow(sitk.GetArrayFromImage(fixed_image)[135], cmap='gray')\n",
    "        plt.title('Fixed image')\n",
    "        plt.subplot(2,2,3)\n",
    "        plt.imshow(sitk.GetArrayFromImage(resultImage)[135], cmap='gray')\n",
    "        plt.title('Registered image')\n",
    "        plt.subplot(2,2,4)\n",
    "        plt.imshow(sitk.GetArrayFromImage(labels_registered)[135], cmap='gray')\n",
    "        plt.title('Propagated labels')\n",
    "        plt.show()\n",
    "\n",
    "\n",
    "\n",
    "        # with open(f'trans_labels.p', 'wb') as handle:   #Save propagated labels as pickle file\n",
    "        #     pickle.dump(labels_registered, handle, pickle.HIGHEST_PROTOCOL)\n",
    "            \n",
    "        # list_labels.append(labels_registered) #Append all propagated labels on a list\n",
    "\n",
    "# to save all the propagated labels in one file\n",
    "# with open(f'all_trans_labels.p', 'wb') as handle: \n",
    "#     pickle.dump(list_labels, handle, pickle.HIGHEST_PROTOCOL)"
   ]
  },
  {
   "attachments": {},
   "cell_type": "markdown",
   "metadata": {},
   "source": [
    "### Make probablistic Atlas from propagated labels "
   ]
  },
  {
   "cell_type": "code",
   "execution_count": null,
   "metadata": {},
   "outputs": [],
   "source": []
  }
 ],
 "metadata": {
  "kernelspec": {
   "display_name": "misa_final",
   "language": "python",
   "name": "python3"
  },
  "language_info": {
   "codemirror_mode": {
    "name": "ipython",
    "version": 3
   },
   "file_extension": ".py",
   "mimetype": "text/x-python",
   "name": "python",
   "nbconvert_exporter": "python",
   "pygments_lexer": "ipython3",
   "version": "3.9.13"
  },
  "orig_nbformat": 4,
  "vscode": {
   "interpreter": {
    "hash": "2cc2b124eab97a95e38d58073487628494688fa08f1c8e154f33bd183865a380"
   }
  }
 },
 "nbformat": 4,
 "nbformat_minor": 2
}

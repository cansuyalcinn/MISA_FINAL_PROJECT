{
 "cells": [
  {
   "attachments": {},
   "cell_type": "markdown",
   "metadata": {},
   "source": [
    "This notebook contains the code of the most similar atlas (SIM) approach "
   ]
  },
  {
   "cell_type": "code",
   "execution_count": 1,
   "metadata": {},
   "outputs": [],
   "source": [
    "# Import libraries\n",
    "from pathlib import Path\n",
    "import pandas as pd\n",
    "import SimpleITK as sitk\n",
    "import matplotlib.pyplot as plt\n",
    "import pickle\n",
    "import numpy as np \n",
    "import os\n",
    "from tqdm import tqdm\n",
    "\n",
    "from metadata import ImageDataset, patient"
   ]
  },
  {
   "cell_type": "code",
   "execution_count": 2,
   "metadata": {},
   "outputs": [
    {
     "name": "stdout",
     "output_type": "stream",
     "text": [
      "The current directory is: d:\\VS_Projects\\MISA_FINAL_PROJECT\\notebooks\n"
     ]
    }
   ],
   "source": [
    "notebook_path = Path().cwd()\n",
    "repo_path = notebook_path.parent\n",
    "print(f'The current directory is: {notebook_path}')"
   ]
  },
  {
   "cell_type": "code",
   "execution_count": 4,
   "metadata": {},
   "outputs": [
    {
     "name": "stdout",
     "output_type": "stream",
     "text": [
      "selected id: 01\n"
     ]
    }
   ],
   "source": [
    "#instantiate dataset, specify set name\n",
    "img_training_data = ImageDataset('Training')\n",
    "im_val_data = ImageDataset('Validation')\n",
    "\n",
    "#check length\n",
    "# print(f'len: {img_training_data.len}')\n",
    "# #get all ids (useful to iterate over all adataset)\n",
    "# print(f'all ids: {img_training_data.IDs}')\n",
    "# #get list of all images paths for training\n",
    "# print(f'images paths: {img_training_data.im_paths()}')\n",
    "# #same for the labels\n",
    "# print(f'images paths: {img_training_data.labels_paths()}')\n",
    "\n",
    "\n",
    "#select one id of patient to check\n",
    "id = img_training_data.IDs[0]\n",
    "id_val = im_val_data.IDs[0]\n",
    "print(f'selected id: {id}')\n",
    "#istantiate patient object using the id and the previous ImageDataset object\n",
    "pat = patient(id, img_training_data)\n",
    "pat_val = patient(id_val, im_val_data)\n",
    "\n",
    "# pat.show('labels')\n",
    "# pat.show('im')\n",
    "\n",
    "# Get the image and the labels\n",
    "im = pat.im()\n",
    "labels = pat.labels()\n",
    "\n",
    "im_val = pat_val.im()\n",
    "labels_val = pat_val.labels()"
   ]
  },
  {
   "cell_type": "code",
   "execution_count": 5,
   "metadata": {},
   "outputs": [],
   "source": [
    "def image_registration(fixedImage, movingImage):\n",
    "    \"\"\"Give two images and the registration of both, and its transformation map will be given\n",
    "\n",
    "    Args:\n",
    "        fixed_path (str): fixed (template) image\n",
    "        moving_path (str): moving image (image that will be transformed)\n",
    "\n",
    "    Returns:\n",
    "        sitk image, transformix map: transformed image and the transformation map\n",
    "    \"\"\"\n",
    "\n",
    "    #Start registration settings\n",
    "    elastixImageFilter = sitk.ElastixImageFilter() #Image filter object\n",
    "    #Defining settings\n",
    "    elastixImageFilter.SetFixedImage(fixedImage)\n",
    "    elastixImageFilter.SetMovingImage(movingImage)\n",
    "\n",
    "    #Run registration\n",
    "    elastixImageFilter.Execute()\n",
    "\n",
    "    #Get result image\n",
    "    resultImage = elastixImageFilter.GetResultImage()\n",
    "\n",
    "    #Transformation map\n",
    "    transformParameterMap = elastixImageFilter.GetTransformParameterMap()\n",
    "    transformParameterMap[0][\"ResampleInterpolator\"] = [\"FinalNearestNeighborInterpolator\"]\n",
    "    transformParameterMap[1][\"ResampleInterpolator\"] = [\"FinalNearestNeighborInterpolator\"]    \n",
    "    transformParameterMap[2][\"ResampleInterpolator\"] = [\"FinalNearestNeighborInterpolator\"]\n",
    "    return resultImage, transformParameterMap"
   ]
  },
  {
   "attachments": {},
   "cell_type": "markdown",
   "metadata": {},
   "source": [
    "### Registration and label propagation"
   ]
  },
  {
   "cell_type": "code",
   "execution_count": 6,
   "metadata": {},
   "outputs": [],
   "source": [
    "if not os.path.exists(repo_path / \"data\" / \"registered_labels_all\"):\n",
    "    os.makedirs(repo_path / \"data\" / \"registered_labels_all\")"
   ]
  },
  {
   "cell_type": "code",
   "execution_count": 8,
   "metadata": {},
   "outputs": [
    {
     "name": "stderr",
     "output_type": "stream",
     "text": [
      "  0%|          | 0/10 [00:00<?, ?it/s]"
     ]
    },
    {
     "name": "stdout",
     "output_type": "stream",
     "text": [
      "Registering training image 01 to validation image 11...\n",
      "Registering training image 01 to validation image 12...\n",
      "Registering training image 01 to validation image 13...\n",
      "Registering training image 01 to validation image 14...\n",
      "Registering training image 01 to validation image 17...\n"
     ]
    },
    {
     "name": "stderr",
     "output_type": "stream",
     "text": [
      " 10%|█         | 1/10 [13:38<2:02:42, 818.04s/it]"
     ]
    },
    {
     "name": "stdout",
     "output_type": "stream",
     "text": [
      "Registering training image 03 to validation image 11...\n",
      "Registering training image 03 to validation image 12...\n",
      "Registering training image 03 to validation image 13...\n",
      "Registering training image 03 to validation image 14...\n",
      "Registering training image 03 to validation image 17...\n"
     ]
    },
    {
     "name": "stderr",
     "output_type": "stream",
     "text": [
      " 20%|██        | 2/10 [27:27<1:49:56, 824.51s/it]"
     ]
    },
    {
     "name": "stdout",
     "output_type": "stream",
     "text": [
      "Registering training image 04 to validation image 11...\n",
      "Registering training image 04 to validation image 12...\n",
      "Registering training image 04 to validation image 13...\n",
      "Registering training image 04 to validation image 14...\n",
      "Registering training image 04 to validation image 17...\n"
     ]
    },
    {
     "name": "stderr",
     "output_type": "stream",
     "text": [
      " 30%|███       | 3/10 [41:27<1:37:01, 831.58s/it]"
     ]
    },
    {
     "name": "stdout",
     "output_type": "stream",
     "text": [
      "Registering training image 05 to validation image 11...\n",
      "Registering training image 05 to validation image 12...\n",
      "Registering training image 05 to validation image 13...\n",
      "Registering training image 05 to validation image 14...\n",
      "Registering training image 05 to validation image 17...\n"
     ]
    },
    {
     "name": "stderr",
     "output_type": "stream",
     "text": [
      " 40%|████      | 4/10 [54:37<1:21:32, 815.35s/it]"
     ]
    },
    {
     "name": "stdout",
     "output_type": "stream",
     "text": [
      "Registering training image 06 to validation image 11...\n",
      "Registering training image 06 to validation image 12...\n",
      "Registering training image 06 to validation image 13...\n",
      "Registering training image 06 to validation image 14...\n",
      "Registering training image 06 to validation image 17...\n"
     ]
    },
    {
     "name": "stderr",
     "output_type": "stream",
     "text": [
      " 50%|█████     | 5/10 [1:08:58<1:09:18, 831.75s/it]"
     ]
    },
    {
     "name": "stdout",
     "output_type": "stream",
     "text": [
      "Registering training image 07 to validation image 11...\n",
      "Registering training image 07 to validation image 12...\n",
      "Registering training image 07 to validation image 13...\n",
      "Registering training image 07 to validation image 14...\n",
      "Registering training image 07 to validation image 17...\n"
     ]
    },
    {
     "name": "stderr",
     "output_type": "stream",
     "text": [
      " 60%|██████    | 6/10 [1:24:57<58:19, 874.95s/it]  "
     ]
    },
    {
     "name": "stdout",
     "output_type": "stream",
     "text": [
      "Registering training image 08 to validation image 11...\n",
      "Registering training image 08 to validation image 12...\n",
      "Registering training image 08 to validation image 13...\n",
      "Registering training image 08 to validation image 14...\n",
      "Registering training image 08 to validation image 17...\n"
     ]
    },
    {
     "name": "stderr",
     "output_type": "stream",
     "text": [
      " 70%|███████   | 7/10 [1:39:27<43:40, 873.34s/it]"
     ]
    },
    {
     "name": "stdout",
     "output_type": "stream",
     "text": [
      "Registering training image 09 to validation image 11...\n",
      "Registering training image 09 to validation image 12...\n",
      "Registering training image 09 to validation image 13...\n",
      "Registering training image 09 to validation image 14...\n",
      "Registering training image 09 to validation image 17...\n"
     ]
    },
    {
     "name": "stderr",
     "output_type": "stream",
     "text": [
      " 80%|████████  | 8/10 [1:53:24<28:43, 861.93s/it]"
     ]
    },
    {
     "name": "stdout",
     "output_type": "stream",
     "text": [
      "Registering training image 16 to validation image 11...\n",
      "Registering training image 16 to validation image 12...\n",
      "Registering training image 16 to validation image 13...\n"
     ]
    }
   ],
   "source": [
    "# for each training image, register it to the validation image\n",
    "# add tqdm to see progress\n",
    "\n",
    "path_to_save_labels = repo_path / \"data\" / \"registered_labels_all\"\n",
    "\n",
    "list_labels_all = []\n",
    "for i in tqdm(range(len(img_training_data.IDs))):\n",
    "    id = img_training_data.IDs[i]\n",
    "    pat = patient(id, img_training_data)\n",
    "    moving_image = pat.im(preprocess=True)\n",
    "    labels = pat.labels()\n",
    "\n",
    "    list_labels = []\n",
    "    for v in range(len(im_val_data.IDs)):\n",
    "\n",
    "        id_val = im_val_data.IDs[v]\n",
    "\n",
    "        print(f'Registering training image {id} to validation image {id_val}...')\n",
    "\n",
    "        pat_val = patient(id_val, im_val_data)\n",
    "        fixed_image = pat_val.im(preprocess=True)\n",
    "        labels_val = pat_val.labels()\n",
    "\n",
    "        resultImage, transformParameterMap = image_registration(fixed_image, moving_image) #Resgiter images using predefined transform map\n",
    "\n",
    "        transformixImageFilter = sitk.TransformixImageFilter() #Create object transform matrix\n",
    "        transformixImageFilter.SetTransformParameterMap(transformParameterMap) #Set with found transform\n",
    "        transformixImageFilter.SetMovingImage(labels) #set labels as moving\n",
    "        transformixImageFilter.Execute() #Tranform labels\n",
    "\n",
    "        labels_registered = transformixImageFilter.GetResultImage() #Propagated labels\n",
    "\n",
    "        with open(path_to_save_labels / f'trans_labels_{id}_to_{id_val}.p', 'wb') as handle:   #Save propagated labels as pickle file\n",
    "            pickle.dump(labels_registered, handle, pickle.HIGHEST_PROTOCOL)\n",
    "            \n",
    "    #     list_labels.append(labels_registered) #Append all propagated labels on a list\n",
    "    \n",
    "    # list_labels_all.append(list_labels) #Append all propagated labels on a list"
   ]
  },
  {
   "cell_type": "code",
   "execution_count": null,
   "metadata": {},
   "outputs": [],
   "source": [
    "#to save all the propagated labels in one file\n",
    "with open(f'all_trans_labels.p', 'wb') as handle: \n",
    "    pickle.dump(list_labels_all, handle, pickle.HIGHEST_PROTOCOL)"
   ]
  },
  {
   "attachments": {},
   "cell_type": "markdown",
   "metadata": {},
   "source": [
    "### Make probablistic Atlas from propagated labels "
   ]
  },
  {
   "cell_type": "code",
   "execution_count": null,
   "metadata": {},
   "outputs": [],
   "source": [
    "with open(f'all_trans_labels.p', 'rb') as handle:   #Load all propagated labels\n",
    "    list_labels= pickle.load(handle)\n",
    "\n",
    "atlas = np.zeros(shape=(3,) + sitk.GetArrayFromImage(list_labels[0]).shape,dtype=np.float32) #Array to store\n",
    "\n",
    "for k in range(1,4): #Go for each tissue    \n",
    "    for label in list_labels: # Go through all images\n",
    "        label = sitk.GetArrayFromImage(label) \n",
    "        atlas[k-1] = atlas[k-1] + (label==k)   #Accumulated atlas\n",
    "    atlas[k-1] = atlas[k-1]/len(list_labels) #Finally get mean"
   ]
  },
  {
   "cell_type": "code",
   "execution_count": null,
   "metadata": {},
   "outputs": [],
   "source": [
    "fig, axs = plt.subplots(nrows=1, ncols=3, figsize=(20,20))\n",
    "for k in range(1,4):\n",
    "    axs[k-1].imshow(atlas[k-1][100], cmap='gray')\n",
    "    axs[k-1].set_title(f'Probability of tissue {k}')"
   ]
  }
 ],
 "metadata": {
  "kernelspec": {
   "display_name": "misa_final",
   "language": "python",
   "name": "python3"
  },
  "language_info": {
   "codemirror_mode": {
    "name": "ipython",
    "version": 3
   },
   "file_extension": ".py",
   "mimetype": "text/x-python",
   "name": "python",
   "nbconvert_exporter": "python",
   "pygments_lexer": "ipython3",
   "version": "3.9.13"
  },
  "orig_nbformat": 4,
  "vscode": {
   "interpreter": {
    "hash": "2cc2b124eab97a95e38d58073487628494688fa08f1c8e154f33bd183865a380"
   }
  }
 },
 "nbformat": 4,
 "nbformat_minor": 2
}

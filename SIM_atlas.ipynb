{
 "cells": [
  {
   "attachments": {},
   "cell_type": "markdown",
   "metadata": {},
   "source": [
    "This notebook contains the code of the most similar atlas (SIM) approach "
   ]
  },
  {
   "cell_type": "code",
   "execution_count": 11,
   "metadata": {},
   "outputs": [],
   "source": [
    "# Import libraries\n",
    "from pathlib import Path\n",
    "import pandas as pd\n",
    "import SimpleITK as sitk\n",
    "import matplotlib.pyplot as plt\n",
    "import pickle\n",
    "from tqdm import tqdm\n",
    "\n",
    "from metadata import ImageDataset, patient"
   ]
  },
  {
   "cell_type": "code",
   "execution_count": 2,
   "metadata": {},
   "outputs": [
    {
     "name": "stdout",
     "output_type": "stream",
     "text": [
      "The current directory is: d:\\VS_Projects\\MISA_FINAL_PROJECT\\notebooks\n"
     ]
    }
   ],
   "source": [
    "notebook_path = Path().cwd()\n",
    "repo_path = notebook_path.parent\n",
    "print(f'The current directory is: {notebook_path}')"
   ]
  },
  {
   "attachments": {},
   "cell_type": "markdown",
   "metadata": {},
   "source": [
    "step1: perfoerm preprocessing\n",
    "step2: perform registration"
   ]
  },
  {
   "cell_type": "code",
   "execution_count": 7,
   "metadata": {},
   "outputs": [
    {
     "name": "stdout",
     "output_type": "stream",
     "text": [
      "selected id: 01\n"
     ]
    }
   ],
   "source": [
    "#instantiate dataset, specify set name\n",
    "img_training_data = ImageDataset('Training')\n",
    "im_val_data = ImageDataset('Validation')\n",
    "\n",
    "#check length\n",
    "# print(f'len: {img_training_data.len}')\n",
    "# #get all ids (useful to iterate over all adataset)\n",
    "# print(f'all ids: {img_training_data.IDs}')\n",
    "# #get list of all images paths for training\n",
    "# print(f'images paths: {img_training_data.im_paths()}')\n",
    "# #same for the labels\n",
    "# print(f'images paths: {img_training_data.labels_paths()}')\n",
    "\n",
    "\n",
    "#select one id of patient to check\n",
    "id = img_training_data.IDs[0]\n",
    "id_val = im_val_data.IDs[0]\n",
    "print(f'selected id: {id}')\n",
    "#istantiate patient object using the id and the previous ImageDataset object\n",
    "pat = patient(id, img_training_data)\n",
    "pat_val = patient(id_val, im_val_data)\n",
    "\n",
    "# pat.show('labels')\n",
    "# pat.show('im')\n",
    "\n",
    "# Get the image and the labels\n",
    "im = pat.im()\n",
    "labels = pat.labels()\n",
    "\n",
    "im_val = pat_val.im()\n",
    "labels_val = pat_val.labels()"
   ]
  },
  {
   "cell_type": "code",
   "execution_count": 13,
   "metadata": {},
   "outputs": [],
   "source": [
    "def image_registration(fixedImage, movingImage):\n",
    "    \"\"\"Give two images and the registration of both, and its transformation map will be given\n",
    "\n",
    "    Args:\n",
    "        fixed_path (str): fixed (template) image\n",
    "        moving_path (str): moving image (image that will be transformed)\n",
    "\n",
    "    Returns:\n",
    "        sitk image, transformix map: transformed image and the transformation map\n",
    "    \"\"\"\n",
    "\n",
    "    #Start registration settings\n",
    "    elastixImageFilter = sitk.ElastixImageFilter() #Image filter object\n",
    "    #Defining settings\n",
    "    elastixImageFilter.SetFixedImage(fixedImage)\n",
    "    elastixImageFilter.SetMovingImage(movingImage)\n",
    "\n",
    "    #Run registration\n",
    "    elastixImageFilter.Execute()\n",
    "\n",
    "    #Get result image\n",
    "    resultImage = elastixImageFilter.GetResultImage()\n",
    "\n",
    "    #Transformation map\n",
    "    transformParameterMap = elastixImageFilter.GetTransformParameterMap()\n",
    "    transformParameterMap[0][\"ResampleInterpolator\"] = [\"FinalNearestNeighborInterpolator\"]\n",
    "    transformParameterMap[1][\"ResampleInterpolator\"] = [\"FinalNearestNeighborInterpolator\"]    \n",
    "    transformParameterMap[2][\"ResampleInterpolator\"] = [\"FinalNearestNeighborInterpolator\"]\n",
    "    return resultImage, transformParameterMap"
   ]
  },
  {
   "cell_type": "code",
   "execution_count": 14,
   "metadata": {},
   "outputs": [],
   "source": [
    "fixed_image = im_val\n",
    "# for each training image, register it to the validation image\n",
    "for i in len(img_training_data.IDs):\n",
    "    id = img_training_data.IDs[i]\n",
    "    pat = patient(id, img_training_data)\n",
    "    moving_image = pat.im()\n",
    "    labels = pat.labels()\n",
    "\n",
    "    for v in len(im_val_data.IDs):\n",
    "        id_val = im_val_data.IDs[v]\n",
    "        pat_val = patient(id_val, im_val_data)\n",
    "        fixed_image = pat_val.im()\n",
    "        labels_val = pat_val.labels()\n",
    "\n",
    "        list_labels = []\n",
    "\n",
    "        resultImage, transformParameterMap = image_registration(fixed_image, moving_image) #Resgiter images using predefined transform map\n",
    "\n",
    "        transformixImageFilter = sitk.TransformixImageFilter() #Create object transform matrix\n",
    "        transformixImageFilter.SetTransformParameterMap(transformParameterMap) #Set with found transform\n",
    "        transformixImageFilter.SetMovingImage(labels_val) #set labels as moving\n",
    "        transformixImageFilter.Execute() #Tranform labels\n",
    "\n",
    "        labels_registered = transformixImageFilter.GetResultImage() #Propagated labels\n",
    "\n",
    "        with open(f'trans_labels.p', 'wb') as handle:   #Save propagated labels as pickle file\n",
    "            pickle.dump(labels_registered, handle, pickle.HIGHEST_PROTOCOL)\n",
    "            \n",
    "        list_labels.append(labels_registered) #Append all propagated labels on a list\n",
    "\n",
    "# to save all the propagated labels in one file\n",
    "with open(f'all_trans_labels.p', 'wb') as handle: \n",
    "    pickle.dump(list_labels, handle, pickle.HIGHEST_PROTOCOL)"
   ]
  },
  {
   "cell_type": "code",
   "execution_count": null,
   "metadata": {},
   "outputs": [],
   "source": []
  }
 ],
 "metadata": {
  "kernelspec": {
   "display_name": "Python 3",
   "language": "python",
   "name": "python3"
  },
  "language_info": {
   "codemirror_mode": {
    "name": "ipython",
    "version": 3
   },
   "file_extension": ".py",
   "mimetype": "text/x-python",
   "name": "python",
   "nbconvert_exporter": "python",
   "pygments_lexer": "ipython3",
   "version": "3.9.13"
  },
  "orig_nbformat": 4,
  "vscode": {
   "interpreter": {
    "hash": "330291e952ef2592d61b7857e145d2070e6df96cbb58463d8ee825546f424b29"
   }
  }
 },
 "nbformat": 4,
 "nbformat_minor": 2
}
